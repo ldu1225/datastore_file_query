{
 "cells": [
  {
   "cell_type": "code",
   "execution_count": 1,
   "id": "dfcc76b4-5817-442e-832e-2567fa70061b",
   "metadata": {
    "tags": []
   },
   "outputs": [
    {
     "name": "stdout",
     "output_type": "stream",
     "text": [
      "\n",
      "\u001b[1m[\u001b[0m\u001b[34;49mnotice\u001b[0m\u001b[1;39;49m]\u001b[0m\u001b[39;49m A new release of pip is available: \u001b[0m\u001b[31;49m25.0\u001b[0m\u001b[39;49m -> \u001b[0m\u001b[32;49m25.0.1\u001b[0m\n",
      "\u001b[1m[\u001b[0m\u001b[34;49mnotice\u001b[0m\u001b[1;39;49m]\u001b[0m\u001b[39;49m To update, run: \u001b[0m\u001b[32;49mpip install --upgrade pip\u001b[0m\n",
      "Note: you may need to restart the kernel to use updated packages.\n"
     ]
    }
   ],
   "source": [
    "%pip install --upgrade --quiet google-cloud-discoveryengine python-dotenv google-auth\n"
   ]
  },
  {
   "cell_type": "code",
   "execution_count": 2,
   "id": "d0432ed6-70d4-4bbd-9b77-76b7a20d405e",
   "metadata": {
    "tags": []
   },
   "outputs": [
    {
     "name": "stdout",
     "output_type": "stream",
     "text": [
      "라이브러리 임포트 완료.\n"
     ]
    }
   ],
   "source": [
    "import os\n",
    "from dotenv import load_dotenv\n",
    "from google.cloud import discoveryengine_v1 as discoveryengine\n",
    "from google.api_core.exceptions import NotFound, GoogleAPICallError, PermissionDenied\n",
    "from pprint import pprint\n",
    "from typing import List, Dict\n",
    "\n",
    "print(\"라이브러리 임포트 완료.\")"
   ]
  },
  {
   "cell_type": "code",
   "execution_count": 37,
   "id": "61d35540-6eb2-47fb-bd05-e7755249fbb2",
   "metadata": {
    "tags": []
   },
   "outputs": [
    {
     "name": "stdout",
     "output_type": "stream",
     "text": [
      ".env 파일 로드 성공.\n",
      "환경 변수 로드 확인:\n",
      "  - PROJECT_ID: duleetest\n",
      "  - LOCATION: global\n",
      "  - DATASTORE_ID: dulee-confluence_1743068723272_space\n"
     ]
    }
   ],
   "source": [
    "if load_dotenv():\n",
    "    print(\".env 파일 로드 성공.\")\n",
    "\n",
    "# 환경 변수 읽기\n",
    "PROJECT_ID = os.environ.get('PROJECT_ID')\n",
    "LOCATION = \"global\" #os.environ.get('LOCATION') # 예: \"global\" 또는 \"asia-northeast3\"\n",
    "DATASTORE_ID = \"dulee-confluence_1743068723272_space\" #os.environ.get('DATASTORE_ID')\n",
    "\n",
    "# 필수 변수가 모두 있는지 확인\n",
    "if not all([PROJECT_ID, LOCATION, DATASTORE_ID]):\n",
    "    print(\"오류: 필수 환경 변수(PROJECT_ID, LOCATION, DATASTORE_ID)가 설정되지 않았습니다.\")\n",
    "    print(f\"  - PROJECT_ID: {PROJECT_ID}\")\n",
    "    print(f\"  - LOCATION: {LOCATION}\")\n",
    "    print(f\"  - DATASTORE_ID: {DATASTORE_ID}\")\n",
    "    # 여기서 스크립트 실행을 중단하거나 기본값을 설정할 수 있습니다.\n",
    "    # raise ValueError(\"필수 환경 변수가 없습니다.\") # 필요시 주석 해제하여 에러 발생\n",
    "else:\n",
    "    print(\"환경 변수 로드 확인:\")\n",
    "    print(f\"  - PROJECT_ID: {PROJECT_ID}\")\n",
    "    print(f\"  - LOCATION: {LOCATION}\")\n",
    "    print(f\"  - DATASTORE_ID: {DATASTORE_ID}\")"
   ]
  },
  {
   "cell_type": "code",
   "execution_count": 38,
   "id": "d1935a59-bb1d-4457-8c3c-2c1dfc734915",
   "metadata": {
    "tags": []
   },
   "outputs": [],
   "source": [
    "def check_document_ids_in_datastore(project_id: str, location: str, data_store_id: str, limit: int = 10) -> List[Dict[str, str]]:\n",
    "    \"\"\"\n",
    "    지정된 Data Store의 문서 목록 일부를 가져와 ID 형식을 확인합니다.\n",
    "\n",
    "    Args:\n",
    "        project_id: GCP 프로젝트 ID.\n",
    "        location: Data Store 위치 (예: \"global\").\n",
    "        data_store_id: 확인할 Data Store ID.\n",
    "        limit: 확인할 최대 문서 수.\n",
    "\n",
    "    Returns:\n",
    "        문서 정보 ('id', 'name', 'uri') 딕셔너리의 리스트. 오류 시 빈 리스트 반환.\n",
    "    \"\"\"\n",
    "    # --- 필수 인자 확인 ---\n",
    "    if not all([project_id, location, data_store_id]):\n",
    "        print(\"오류: project_id, location, data_store_id는 필수 값입니다.\")\n",
    "        return []\n",
    "\n",
    "    # --- API 클라이언트 설정 ---\n",
    "    try:\n",
    "        # 리전 엔드포인트 설정 (global이 아닐 경우)\n",
    "        client_options = (\n",
    "            {\"api_endpoint\": f\"{location}-discoveryengine.googleapis.com\"}\n",
    "            if location != \"global\"\n",
    "            else {}\n",
    "        )\n",
    "        client = discoveryengine.DocumentServiceClient(client_options=client_options)\n",
    "\n",
    "        # --- API 요청 경로 설정 ---\n",
    "        # 기본 컬렉션(default_collection) 및 기본 브랜치(0) 사용\n",
    "        parent = f\"projects/{project_id}/locations/{location}/collections/default_collection/dataStores/{data_store_id}/branches/0\"\n",
    "\n",
    "        # --- ListDocuments API 요청 생성 ---\n",
    "        request = discoveryengine.ListDocumentsRequest(parent=parent, page_size=limit) # page_size로 가져올 개수 제한\n",
    "\n",
    "        print(f\"문서 목록 가져오는 중: {parent}\")\n",
    "\n",
    "        # --- API 호출 및 결과 처리 ---\n",
    "        document_list = []\n",
    "        # list_documents는 Pager 객체를 반환하며, 반복문은 첫 페이지만 처리하게 됨 (여기서는 limit 만큼만 원하므로 괜찮음)\n",
    "        page_result = client.list_documents(request=request)\n",
    "\n",
    "        count = 0\n",
    "        for document in page_result:\n",
    "            document_info = {\n",
    "                'id': document.id, # \n",
    "                'name': document.name,\n",
    "                'uri': document.content.uri if document.content else \"N/A\" # content 필드가 없을 수 있으므로 확인\n",
    "            }\n",
    "            document_list.append(document_info)\n",
    "            count += 1\n",
    "            # 비록 page_size로 제한했지만, 안전하게 count로도 제한\n",
    "            if count >= limit:\n",
    "                 break\n",
    "\n",
    "        if not document_list:\n",
    "            print(\"Data Store에서 문서를 찾을 수 없거나 가져오는데 실패했습니다.\")\n",
    "        else:\n",
    "            print(f\"처음 {len(document_list)}개 문서 정보 확인 (최대 {limit}개):\")\n",
    "            pprint(document_list) # 보기 좋게 출력\n",
    "\n",
    "        return document_list\n",
    "\n",
    "    # --- 오류 처리 ---\n",
    "    except PermissionDenied as e:\n",
    "        print(f\"오류: 권한이 거부되었습니다. {e}\")\n",
    "        print(\"Hint: Discovery Engine API가 활성화되어 있고, API 호출 권한이 있는지 확인하세요.\")\n",
    "        return []\n",
    "    except NotFound as e:\n",
    "        print(f\"오류: 리소스를 찾을 수 없습니다. {e}\")\n",
    "        print(f\"Hint: 경로가 올바른지 확인하세요: {parent}\")\n",
    "        return []\n",
    "    except GoogleAPICallError as e:\n",
    "        print(f\"API 호출 오류 발생: {e}\")\n",
    "        return []\n",
    "    except Exception as e:\n",
    "        print(f\"예상치 못한 오류 발생: {e}\")\n",
    "        return []"
   ]
  },
  {
   "cell_type": "code",
   "execution_count": 41,
   "id": "6441adc8-533a-4c87-a8dc-6ca5ae1cc417",
   "metadata": {
    "tags": []
   },
   "outputs": [
    {
     "name": "stdout",
     "output_type": "stream",
     "text": [
      "\n",
      "--- Data Store 문서 ID 확인 시작 ---\n",
      "문서 목록 가져오는 중: projects/duleetest/locations/global/collections/default_collection/dataStores/dulee-confluence_1743068723272_space/branches/0\n",
      "API 호출 오류 발생: 400 ListDocuments is not available for an acled datastore.\n",
      "\n",
      "--- 결과 해석 가이드 ---\n",
      "문서 ID를 가져올 수 없습니다. 위의 오류 메시지를 확인하고 다음 사항을 점검하세요:\n",
      "  - 프로젝트 ID, 위치(Location), 데이터 저장소 ID가 정확한가?\n",
      "  - Discovery Engine API가 활성화되어 있는가?\n",
      "  - API 호출에 필요한 IAM 권한이 있는가?\n",
      "\n",
      "--- 확인 완료 ---\n"
     ]
    }
   ],
   "source": [
    "print(\"\\n--- Data Store 문서 ID 확인 시작 ---\")\n",
    "\n",
    "# 환경 변수가 제대로 로드되었는지 최종 확인 후 함수 호출\n",
    "if 'PROJECT_ID' in locals() and PROJECT_ID and LOCATION and DATASTORE_ID:\n",
    "    # 함수 호출 (처음 10개 문서 ID 확인)\n",
    "    found_docs = check_document_ids_in_datastore(PROJECT_ID, LOCATION, DATASTORE_ID, limit=10)\n",
    "\n",
    "    print(\"\\n--- 결과 해석 가이드 ---\")\n",
    "    if found_docs:\n",
    "        print(\"위에 출력된 문서 정보 리스트에서 각 항목의 'id' 값을 확인하세요.\")\n",
    "        print(\" - ID가 숫자 형태 (예: '12345678'): Confluence 페이지 ID일 가능성이 매우 높습니다 (커넥터 기본 동작).\")\n",
    "        print(\" - ID가 복잡한 문자열 형태 (예: 'Abc123XyZ...'): 커스텀 ID일 수 있습니다 (직접 데이터 넣으면서 Document AI의 doc_id를 지정한 경우).\")\n",
    "        print(\"\\n이 ID 형식을 바탕으로 문서를 삭제하는 방법을 결정해야 합니다.\")\n",
    "        print(\"만약 Confluence 페이지 ID라면, 삭제하려는 Document AI doc_id에 해당하는 Confluence 페이지 ID를 알아내서 사용해야 합니다.\")\n",
    "    else:\n",
    "        print(\"문서 ID를 가져올 수 없습니다. 위의 오류 메시지를 확인하고 다음 사항을 점검하세요:\")\n",
    "        print(\"  - 프로젝트 ID, 위치(Location), 데이터 저장소 ID가 정확한가?\")\n",
    "        print(\"  - Discovery Engine API가 활성화되어 있는가?\")\n",
    "        print(\"  - API 호출에 필요한 IAM 권한이 있는가?\")\n",
    "else:\n",
    "    print(\"오류: 환경 변수가 제대로 설정되지 않아 함수 호출을 건너<0xEB><0x89>니다.\")\n",
    "\n",
    "print(\"\\n--- 확인 완료 ---\")"
   ]
  },
  {
   "cell_type": "code",
   "execution_count": 40,
   "id": "bb130db2-117b-421c-b517-7c3cf9434401",
   "metadata": {},
   "outputs": [
    {
     "name": "stdout",
     "output_type": "stream",
     "text": [
      "'*' 검색 결과 (최대 10개):\n"
     ]
    }
   ],
   "source": [
    "# SearchServiceClient 사용 예시 (간략화)\n",
    "from google.cloud import discoveryengine_v1 as discoveryengine\n",
    "\n",
    "# ... (project_id, location, data_store_id 설정은 동일)\n",
    "\n",
    "def search_documents_for_ids(project_id: str, location: str, data_store_id: str, query: str = \"*\", limit: int = 10):\n",
    "    try:\n",
    "        client_options = (\n",
    "            {\"api_endpoint\": f\"{location}-discoveryengine.googleapis.com\"}\n",
    "            if location != \"global\"\n",
    "            else {}\n",
    "        )\n",
    "        search_client = discoveryengine.SearchServiceClient(client_options=client_options)\n",
    "\n",
    "        serving_config = search_client.serving_config_path(\n",
    "            project=project_id,\n",
    "            location=location,\n",
    "            data_store=data_store_id,\n",
    "            serving_config=\"default_config\", # 보통 'default_config'\n",
    "        )\n",
    "\n",
    "        request = discoveryengine.SearchRequest(\n",
    "            serving_config=serving_config,\n",
    "            query=query,\n",
    "            page_size=limit\n",
    "            # user_info 필드를 통해 최종 사용자 정보를 전달하여 ACL 적용 가능\n",
    "            # user_info=discoveryengine.UserInfo(user_id=\"user-email@example.com\")\n",
    "        )\n",
    "\n",
    "        response = search_client.search(request=request)\n",
    "\n",
    "        print(f\"'{query}' 검색 결과 (최대 {limit}개):\")\n",
    "        found_ids = []\n",
    "        for result in response.results:\n",
    "            doc_id = result.document.id\n",
    "            doc_name = result.document.name\n",
    "            doc_uri = result.document.derived_struct_data.get('link', 'N/A') if result.document.derived_struct_data else 'N/A'\n",
    "            print(f\"  - ID: {doc_id}, Name: {doc_name}, URI: {doc_uri}\")\n",
    "            found_ids.append(doc_id)\n",
    "        return found_ids\n",
    "\n",
    "    except Exception as e:\n",
    "        print(f\"Search API 호출 중 오류 발생: {e}\")\n",
    "        return []\n",
    "\n",
    "# 함수 호출\n",
    "if 'PROJECT_ID' in locals() and PROJECT_ID and LOCATION and DATASTORE_ID:\n",
    "    search_documents_for_ids(PROJECT_ID, LOCATION, DATASTORE_ID, query=\"*\", limit=10)"
   ]
  },
  {
   "cell_type": "code",
   "execution_count": null,
   "id": "a9c57a15-dfef-44bf-a559-6473816292ad",
   "metadata": {},
   "outputs": [],
   "source": []
  }
 ],
 "metadata": {
  "environment": {
   "kernel": "conda-base-py",
   "name": "workbench-notebooks.m128",
   "type": "gcloud",
   "uri": "us-docker.pkg.dev/deeplearning-platform-release/gcr.io/workbench-notebooks:m128"
  },
  "kernelspec": {
   "display_name": "Python 3 (ipykernel) (Local)",
   "language": "python",
   "name": "conda-base-py"
  },
  "language_info": {
   "codemirror_mode": {
    "name": "ipython",
    "version": 3
   },
   "file_extension": ".py",
   "mimetype": "text/x-python",
   "name": "python",
   "nbconvert_exporter": "python",
   "pygments_lexer": "ipython3",
   "version": "3.10.16"
  }
 },
 "nbformat": 4,
 "nbformat_minor": 5
}
